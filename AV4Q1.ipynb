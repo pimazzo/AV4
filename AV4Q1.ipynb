{
 "cells": [
  {
   "cell_type": "markdown",
   "metadata": {},
   "source": [
    "Instruções:\n",
    "Cadeia linear com 2 massas:\n",
    "\n",
    "Modele uma cadeia com duas massas m_1 e m_2 conectadas por uma mola de constante k.\n",
    "\n",
    "Ambas as extremidades são livres (não ligadas a paredes).\n",
    "\n",
    "Estude os efeitos da diferença entre m_1 e m_2 nas frequências e nos deslocamentos relativos.\n",
    "\n",
    "Extensão para 3 massas:\n",
    "\n",
    "Conecte três massas em linha com molas entre elas.\n",
    "\n",
    "Varie as massas e analise o comportamento vibracional do sistema.\n",
    "\n",
    "Mantenha as extremidades livres.\n",
    "\n",
    "Extensão para 4 massas com inclusão de segunda vizinhança:\n",
    "\n",
    "Agora, modele uma cadeia com quatro massas m_1, m_2, m_3, m_4, conectadas por molas com constante k entre vizinhos imediatos.\n",
    "\n",
    "Adicione molas adicionais conectando pares de massas a duas posições de distância:\n",
    "\n",
    "Entre m_1 e m_3\n",
    "\n",
    "Entre m_2 e m_4\n",
    "\n",
    " \n",
    "\n",
    "Use uma constante k’ para as molas de segunda vizinhança (ex: k’ = 0.2k, 0.5k, etc.).\n",
    "\n",
    "Analise:\n",
    "\n",
    "Como a presença de segunda vizinhança altera as frequências naturais\n",
    "\n",
    "Quais modos normais são mais afetados por essas interações adicionais\n",
    "\n",
    " \n",
    "\n",
    "Visualizações Recomendadas:\n",
    "Gráficos das frequências naturais para cada configuração\n",
    "\n",
    "Visualização dos modos normais (vetores de deslocamento)\n",
    "\n",
    "Comparação entre o caso com e sem interações de segunda vizinhança para 4 átomos\n",
    "\n",
    "Entrega Esperada:\n",
    "Código funcional e bem comentado\n",
    "\n",
    "Gráficos claros dos resultados\n",
    "\n",
    "Texto explicativo (até 300 palavras) discutindo:\n",
    "\n",
    "O efeito da variação das massas\n",
    "\n",
    "O impacto da inclusão de segundos vizinhos\n",
    "\n",
    "A interpretação física das modificações observadas nos modos"
   ]
  },
  {
   "cell_type": "code",
   "execution_count": null,
   "metadata": {},
   "outputs": [
    {
     "name": "stdout",
     "output_type": "stream",
     "text": [
      "Defaulting to user installation because normal site-packages is not writeable\n",
      "Requirement already satisfied: numpy in c:\\anaconda3\\lib\\site-packages (1.26.4)\n",
      "Note: you may need to restart the kernel to use updated packages.\n"
     ]
    }
   ],
   "source": [
    "%pip install numpy \n",
    "%pip install nbformat\n",
    "%pip install plotly\n",
    "%pip install --upgrade nbformat plotly"
   ]
  },
  {
   "cell_type": "code",
   "execution_count": null,
   "metadata": {},
   "outputs": [],
   "source": [
    "import numpy as np\n",
    "from numpy import array \n",
    "from scipy.linalg import eig \n",
    "import matplotlib.pyplot as plt\n",
    "import seaborn as sns\n",
    "import pandas as pd\n",
    "import plotly.express as px"
   ]
  },
  {
   "cell_type": "code",
   "execution_count": 17,
   "metadata": {},
   "outputs": [],
   "source": [
    "# =========================================== Condições Iniciais======================================================\n",
    "m1=1.0\n",
    "m2=2.0\n",
    "m3= 3.0\n",
    "m4=4.0\n",
    "k_value = 0.2"
   ]
  },
  {
   "cell_type": "code",
   "execution_count": null,
   "metadata": {},
   "outputs": [
    {
     "name": "stdout",
     "output_type": "stream",
     "text": [
      "Eigenvalues:\n",
      "[0.68789903 0.35608274]\n",
      "Ordered Eigenvalues:\n",
      "[[ 0.59069049  0.9390708 ]\n",
      " [ 0.80689822 -0.34372377]]\n",
      "Normalized Eigenvectors: [[ 0.59069049  0.9390708 ]\n",
      " [ 0.80689822 -0.34372377]]\n"
     ]
    }
   ],
   "source": [
    "K = np.array([[2*k_value, -k_value],\n",
    "              [-k_value, 2*k_value]])\n",
    "M = np.array([[m1, 0], \n",
    "              [0, m2]])\n",
    "autovalores, autovectors = eig(K, M)\n",
    "print(\"Eigenvalues:\")\n",
    "frequencias=np.sqrt(np.abs(autovalores))\n",
    "print(frequencias)  \n",
    "indices_ordenados = np.argsort(frequencias)\n",
    "frequencias_ordenadas = frequencias[indices_ordenados]\n",
    "print(\"Ordered Eigenvalues:\")\n",
    "autovectors_ordenados = autovectors[:, indices_ordenados]\n",
    "print(autovectors_ordenados)\n",
    "autovectors_normalizados = autovectors_ordenados / np.linalg.norm(autovectors_ordenados, axis=0)\n",
    "print(\"Normalized Eigenvectors:\", autovectors_normalizados)"
   ]
  },
  {
   "cell_type": "code",
   "execution_count": 42,
   "metadata": {},
   "outputs": [
    {
     "data": {
      "image/png": "[encoded data removed]",
      "text/plain": [
       "<Figure size 800x400 with 2 Axes>"
      ]
     },
     "metadata": {},
     "output_type": "display_data"
    }
   ],
   "source": [
    "plt.figure(figsize=(8, 4))\n",
    "for i in range(2):\n",
    "    plt.subplot(1, 2, i+1)\n",
    "    plt.stem(['m1', 'm2'], autovectors_normalizados[:, i], basefmt=\" \")\n",
    "    plt.ylabel('Deslocamento relativo')\n",
    "    plt.ylim(-1, 1)\n",
    "    plt.grid(axis='y', linestyle='--', alpha=0.5)\n",
    "plt.tight_layout()\n",
    "plt.show()"
   ]
  },
  {
   "cell_type": "code",
   "execution_count": null,
   "metadata": {},
   "outputs": [
    {
     "name": "stdout",
     "output_type": "stream",
     "text": [
      "Eigenvalues:\n",
      "[0.69100302 0.4472136  0.23632214]\n",
      "Ordered Eigenvalues:\n",
      "[[-0.40314353 -0.57735027  0.93018981]\n",
      " [-0.69371294 -0.57735027 -0.36037961]\n",
      " [-0.59685647  0.57735027  0.06981019]]\n",
      "Normalized Eigenvectors: [[-0.40314353 -0.57735027  0.93018981]\n",
      " [-0.69371294 -0.57735027 -0.36037961]\n",
      " [-0.59685647  0.57735027  0.06981019]]\n"
     ]
    }
   ],
   "source": [
    "K = np.array([[2*k_value, -k_value, 0],\n",
    "              [-k_value, 2*k_value, -k_value],\n",
    "              [0, -k_value, 2*k_value]])\n",
    "M = np.array([[m1, 0, 0], \n",
    "              [0, m2, 0],\n",
    "              [0, 0, m3]])\n",
    "autovalores, autovectors = eig(K, M)\n",
    "print(\"Eigenvalues:\")\n",
    "frequencias=np.sqrt(np.abs(autovalores))\n",
    "print(frequencias)  \n",
    "indices_ordenados = np.argsort(frequencias)\n",
    "frequencias_ordenadas = frequencias[indices_ordenados]\n",
    "print(\"Ordered Eigenvalues:\")\n",
    "autovectors_ordenados = autovectors[:, indices_ordenados]\n",
    "print(autovectors_ordenados)\n",
    "autovectors_normalizados = autovectors_ordenados / np.linalg.norm(autovectors_ordenados, axis=0)\n",
    "print(\"Normalized Eigenvectors:\", autovectors_normalizados)"
   ]
  },
  {
   "cell_type": "code",
   "execution_count": 44,
   "metadata": {},
   "outputs": [
    {
     "data": {
      "image/png": "[encoded data removed]",
      "text/plain": [
       "<Figure size 1200x400 with 3 Axes>"
      ]
     },
     "metadata": {},
     "output_type": "display_data"
    }
   ],
   "source": [
    "plt.figure(figsize=(12, 4))\n",
    "for i in range(3):\n",
    "    plt.subplot(1, 3, i+1)\n",
    "    plt.title(f'Modo {i+1} (f = {frequencias_ordenadas[i]:.2f} rad/s)')\n",
    "    plt.stem(['m1', 'm2', 'm3'], autovectors_normalizados[:, i], basefmt=\" \")\n",
    "    plt.ylabel('Deslocamento relativo')\n",
    "    plt.ylim(-1, 1)\n",
    "    plt.grid(axis='y', linestyle='--', alpha=0.5)\n",
    "plt.tight_layout()\n",
    "plt.show()"
   ]
  },
  {
   "cell_type": "code",
   "execution_count": null,
   "metadata": {},
   "outputs": [
    {
     "name": "stdout",
     "output_type": "stream",
     "text": [
      "Eigenvalues:\n",
      "[3.45538547 2.29703934 1.47560499 0.43571181]\n",
      "Ordered Eigenvalues:\n",
      "[[-0.20736083 -0.44271504  0.55642676  0.92988662]\n",
      " [-0.40684839 -0.69263564  0.52566863 -0.36073812]\n",
      " [-0.57544074 -0.33929551 -0.61454252  0.07147748]\n",
      " [-0.67848642  0.4573159   0.19078584 -0.00835823]]\n",
      "Normalized Eigenvectors: [[-0.20736083 -0.44271504  0.55642676  0.92988662]\n",
      " [-0.40684839 -0.69263564  0.52566863 -0.36073812]\n",
      " [-0.57544074 -0.33929551 -0.61454252  0.07147748]\n",
      " [-0.67848642  0.4573159   0.19078584 -0.00835823]]\n"
     ]
    }
   ],
   "source": [
    "K = np.array([[2*k_value, -k_value, 0, 0],\n",
    "              [-k_value, 2*k_value, -k_value, 0],\n",
    "              [0, -k_value, 2*k_value, -k_value],\n",
    "              [0, 0, -k_value, k_value]])\n",
    "M = np.array([[m1, 0, 0, 0], \n",
    "              [0, m2, 0, 0],\n",
    "              [0, 0, m3, 0],\n",
    "              [0, 0,0,  m4]])\n",
    "autovalores, autovectors = eig(K, M)\n",
    "print(\"Eigenvalues:\")\n",
    "frequencias=np.sqrt(np.abs(autovalores))\n",
    "print(frequencias)  \n",
    "indices_ordenados = np.argsort(frequencias)\n",
    "frequencias_ordenadas = frequencias[indices_ordenados]\n",
    "print(\"Ordered Eigenvalues:\")\n",
    "autovectors_ordenados = autovectors[:, indices_ordenados]\n",
    "print(autovectors_ordenados)\n",
    "autovectors_normalizados = autovectors_ordenados / np.linalg.norm(autovectors_ordenados, axis=0)\n",
    "print(\"Normalized Eigenvectors:\", autovectors_normalizados)"
   ]
  },
  {
   "cell_type": "code",
   "execution_count": 38,
   "metadata": {},
   "outputs": [
    {
     "data": {
      "image/png": "[encoded data removed]",
      "text/plain": [
       "<Figure size 1200x400 with 3 Axes>"
      ]
     },
     "metadata": {},
     "output_type": "display_data"
    }
   ],
   "source": [
    "plt.figure(figsize=(12, 4))\n",
    "for i in range(3):\n",
    "    plt.subplot(1, 3, i+1)\n",
    "    plt.title(f'Modo {i+1} (f = {frequencias_ordenadas[i]:.2f} rad/s)')\n",
    "    plt.stem(['m1', 'm2', 'm3','m4'], autovectors_normalizados[:, i], basefmt=\" \")\n",
    "    plt.ylabel('Deslocamento relativo')\n",
    "    plt.ylim(-1, 1)\n",
    "    plt.grid(axis='y', linestyle='--', alpha=0.5)\n",
    "plt.tight_layout()\n",
    "plt.show()"
   ]
  },
  {
   "cell_type": "code",
   "execution_count": 20,
   "metadata": {},
   "outputs": [
    {
     "data": {
      "application/vnd.plotly.v1+json": {
       "config": {
        "plotlyServerURL": "https://plot.ly"
       },
       "data": [
        {
         "hovertemplate": "Sistema=2 átomos (massas iguais)<br>Modo de Vibração=%{x}<br>Frequência Natural (ω, rad/s)=%{y}<extra></extra>",
         "legendgroup": "2 átomos (massas iguais)",
         "line": {
          "color": "#636efa",
          "dash": "solid",
          "width": 2
         },
         "marker": {
          "line": {
           "color": "DarkSlateGrey",
           "width": 0.5
          },
          "size": 11,
          "symbol": "circle"
         },
         "mode": "lines+markers",
         "name": "2 átomos (massas iguais)",
         "orientation": "v",
         "showlegend": true,
         "type": "scatter",
         "x": {
          "bdata": "AQI=",
          "dtype": "i1"
         },
         "xaxis": "x",
         "y": {
          "bdata": "AAAAAAAAAADACh8AxkgsQA==",
          "dtype": "f8"
         },
         "yaxis": "y"
        },
        {
         "hovertemplate": "Sistema=2 átomos (m1=1, m2=3)<br>Modo de Vibração=%{x}<br>Frequência Natural (ω, rad/s)=%{y}<extra></extra>",
         "legendgroup": "2 átomos (m1=1, m2=3)",
         "line": {
          "color": "#EF553B",
          "dash": "solid",
          "width": 2
         },
         "marker": {
          "line": {
           "color": "DarkSlateGrey",
           "width": 0.5
          },
          "size": 11,
          "symbol": "diamond"
         },
         "mode": "lines+markers",
         "name": "2 átomos (m1=1, m2=3)",
         "orientation": "v",
         "showlegend": true,
         "type": "scatter",
         "x": {
          "bdata": "AQI=",
          "dtype": "i1"
         },
         "xaxis": "x",
         "y": {
          "bdata": "AAAAAAAAAAB6aQuZsX4oQA==",
          "dtype": "f8"
         },
         "yaxis": "y"
        },
        {
         "hovertemplate": "Sistema=3 átomos (massas iguais)<br>Modo de Vibração=%{x}<br>Frequência Natural (ω, rad/s)=%{y}<extra></extra>",
         "legendgroup": "3 átomos (massas iguais)",
         "line": {
          "color": "#00cc96",
          "dash": "solid",
          "width": 2
         },
         "marker": {
          "line": {
           "color": "DarkSlateGrey",
           "width": 0.5
          },
          "size": 11,
          "symbol": "square"
         },
         "mode": "lines+markers",
         "name": "3 átomos (massas iguais)",
         "orientation": "v",
         "showlegend": true,
         "type": "scatter",
         "x": {
          "bdata": "AQID",
          "dtype": "i1"
         },
         "xaxis": "x",
         "y": {
          "bdata": "fBmqXZCzdD4AAAAAAAAkQOsvN9EMUjFA",
          "dtype": "f8"
         },
         "yaxis": "y"
        },
        {
         "hovertemplate": "Sistema=4 átomos (sem 2ª viz)<br>Modo de Vibração=%{x}<br>Frequência Natural (ω, rad/s)=%{y}<extra></extra>",
         "legendgroup": "4 átomos (sem 2ª viz)",
         "line": {
          "color": "#ab63fa",
          "dash": "solid",
          "width": 2
         },
         "marker": {
          "line": {
           "color": "DarkSlateGrey",
           "width": 0.5
          },
          "size": 11,
          "symbol": "x"
         },
         "mode": "lines+markers",
         "name": "4 átomos (sem 2ª viz)",
         "orientation": "v",
         "showlegend": true,
         "type": "scatter",
         "x": {
          "bdata": "AQIDBA==",
          "dtype": "i1"
         },
         "xaxis": "x",
         "y": {
          "bdata": "3Q6PhrTeWz6+U1pQW50eQMQKHwDGSCxAS5h/YUN6MkA=",
          "dtype": "f8"
         },
         "yaxis": "y"
        },
        {
         "hovertemplate": "Sistema=4 átomos (com 2ª viz)<br>Modo de Vibração=%{x}<br>Frequência Natural (ω, rad/s)=%{y}<extra></extra>",
         "legendgroup": "4 átomos (com 2ª viz)",
         "line": {
          "color": "#FFA15A",
          "dash": "solid",
          "width": 2
         },
         "marker": {
          "line": {
           "color": "DarkSlateGrey",
           "width": 0.5
          },
          "size": 11,
          "symbol": "cross"
         },
         "mode": "lines+markers",
         "name": "4 átomos (com 2ª viz)",
         "orientation": "v",
         "showlegend": true,
         "type": "scatter",
         "x": {
          "bdata": "AQIDBA==",
          "dtype": "i1"
         },
         "xaxis": "x",
         "y": {
          "bdata": "p8tUJkbNcz5ppyg8JDcmQNuvrAezuzBAdMw0ZGXiMkA=",
          "dtype": "f8"
         },
         "yaxis": "y"
        }
       ],
       "layout": {
        "font": {
         "color": "black",
         "family": "Arial, sans-serif",
         "size": 13
        },
        "legend": {
         "bgcolor": "rgba(255, 255, 255, 0.8)",
         "bordercolor": "black",
         "borderwidth": 1,
         "title": {
          "text": "<b>Configuração do Sistema</b>"
         },
         "tracegroupgap": 0,
         "x": 0.02,
         "y": 0.98
        },
        "template": {
         "data": {
          "bar": [
           {
            "error_x": {
             "color": "#2a3f5f"
            },
            "error_y": {
             "color": "#2a3f5f"
            },
            "marker": {
             "line": {
              "color": "white",
              "width": 0.5
             },
             "pattern": {
              "fillmode": "overlay",
              "size": 10,
              "solidity": 0.2
             }
            },
            "type": "bar"
           }
          ],
          "barpolar": [
           {
            "marker": {
             "line": {
              "color": "white",
              "width": 0.5
             },
             "pattern": {
              "fillmode": "overlay",
              "size": 10,
              "solidity": 0.2
             }
            },
            "type": "barpolar"
           }
          ],
          "carpet": [
           {
            "aaxis": {
             "endlinecolor": "#2a3f5f",
             "gridcolor": "#C8D4E3",
             "linecolor": "#C8D4E3",
             "minorgridcolor": "#C8D4E3",
             "startlinecolor": "#2a3f5f"
            },
            "baxis": {
             "endlinecolor": "#2a3f5f",
             "gridcolor": "#C8D4E3",
             "linecolor": "#C8D4E3",
             "minorgridcolor": "#C8D4E3",
             "startlinecolor": "#2a3f5f"
            },
            "type": "carpet"
           }
          ],
          "choropleth": [
           {
            "colorbar": {
             "outlinewidth": 0,
             "ticks": ""
            },
            "type": "choropleth"
           }
          ],
          "contour": [
           {
            "colorbar": {
             "outlinewidth": 0,
             "ticks": ""
            },
            "colorscale": [
             [
              0,
              "#0d0887"
             ],
             [
              0.1111111111111111,
              "#46039f"
             ],
             [
              0.2222222222222222,
              "#7201a8"
             ],
             [
              0.3333333333333333,
              "#9c179e"
             ],
             [
              0.4444444444444444,
              "#bd3786"
             ],
             [
              0.5555555555555556,
              "#d8576b"
             ],
             [
              0.6666666666666666,
              "#ed7953"
             ],
             [
              0.7777777777777778,
              "#fb9f3a"
             ],
             [
              0.8888888888888888,
              "#fdca26"
             ],
             [
              1,
              "#f0f921"
             ]
            ],
            "type": "contour"
           }
          ],
          "contourcarpet": [
           {
            "colorbar": {
             "outlinewidth": 0,
             "ticks": ""
            },
            "type": "contourcarpet"
           }
          ],
          "heatmap": [
           {
            "colorbar": {
             "outlinewidth": 0,
             "ticks": ""
            },
            "colorscale": [
             [
              0,
              "#0d0887"
             ],
             [
              0.1111111111111111,
              "#46039f"
             ],
             [
              0.2222222222222222,
              "#7201a8"
             ],
             [
              0.3333333333333333,
              "#9c179e"
             ],
             [
              0.4444444444444444,
              "#bd3786"
             ],
             [
              0.5555555555555556,
              "#d8576b"
             ],
             [
              0.6666666666666666,
              "#ed7953"
             ],
             [
              0.7777777777777778,
              "#fb9f3a"
             ],
             [
              0.8888888888888888,
              "#fdca26"
             ],
             [
              1,
              "#f0f921"
             ]
            ],
            "type": "heatmap"
           }
          ],
          "histogram": [
           {
            "marker": {
             "pattern": {
              "fillmode": "overlay",
              "size": 10,
              "solidity": 0.2
             }
            },
            "type": "histogram"
           }
          ],
          "histogram2d": [
           {
            "colorbar": {
             "outlinewidth": 0,
             "ticks": ""
            },
            "colorscale": [
             [
              0,
              "#0d0887"
             ],
             [
              0.1111111111111111,
              "#46039f"
             ],
             [
              0.2222222222222222,
              "#7201a8"
             ],
             [
              0.3333333333333333,
              "#9c179e"
             ],
             [
              0.4444444444444444,
              "#bd3786"
             ],
             [
              0.5555555555555556,
              "#d8576b"
             ],
             [
              0.6666666666666666,
              "#ed7953"
             ],
             [
              0.7777777777777778,
              "#fb9f3a"
             ],
             [
              0.8888888888888888,
              "#fdca26"
             ],
             [
              1,
              "#f0f921"
             ]
            ],
            "type": "histogram2d"
           }
          ],
          "histogram2dcontour": [
           {
            "colorbar": {
             "outlinewidth": 0,
             "ticks": ""
            },
            "colorscale": [
             [
              0,
              "#0d0887"
             ],
             [
              0.1111111111111111,
              "#46039f"
             ],
             [
              0.2222222222222222,
              "#7201a8"
             ],
             [
              0.3333333333333333,
              "#9c179e"
             ],
             [
              0.4444444444444444,
              "#bd3786"
             ],
             [
              0.5555555555555556,
              "#d8576b"
             ],
             [
              0.6666666666666666,
              "#ed7953"
             ],
             [
              0.7777777777777778,
              "#fb9f3a"
             ],
             [
              0.8888888888888888,
              "#fdca26"
             ],
             [
              1,
              "#f0f921"
             ]
            ],
            "type": "histogram2dcontour"
           }
          ],
          "mesh3d": [
           {
            "colorbar": {
             "outlinewidth": 0,
             "ticks": ""
            },
            "type": "mesh3d"
           }
          ],
          "parcoords": [
           {
            "line": {
             "colorbar": {
              "outlinewidth": 0,
              "ticks": ""
             }
            },
            "type": "parcoords"
           }
          ],
          "pie": [
           {
            "automargin": true,
            "type": "pie"
           }
          ],
          "scatter": [
           {
            "fillpattern": {
             "fillmode": "overlay",
             "size": 10,
             "solidity": 0.2
            },
            "type": "scatter"
           }
          ],
          "scatter3d": [
           {
            "line": {
             "colorbar": {
              "outlinewidth": 0,
              "ticks": ""
             }
            },
            "marker": {
             "colorbar": {
              "outlinewidth": 0,
              "ticks": ""
             }
            },
            "type": "scatter3d"
           }
          ],
          "scattercarpet": [
           {
            "marker": {
             "colorbar": {
              "outlinewidth": 0,
              "ticks": ""
             }
            },
            "type": "scattercarpet"
           }
          ],
          "scattergeo": [
           {
            "marker": {
             "colorbar": {
              "outlinewidth": 0,
              "ticks": ""
             }
            },
            "type": "scattergeo"
           }
          ],
          "scattergl": [
           {
            "marker": {
             "colorbar": {
              "outlinewidth": 0,
              "ticks": ""
             }
            },
            "type": "scattergl"
           }
          ],
          "scattermap": [
           {
            "marker": {
             "colorbar": {
              "outlinewidth": 0,
              "ticks": ""
             }
            },
            "type": "scattermap"
           }
          ],
          "scattermapbox": [
           {
            "marker": {
             "colorbar": {
              "outlinewidth": 0,
              "ticks": ""
             }
            },
            "type": "scattermapbox"
           }
          ],
          "scatterpolar": [
           {
            "marker": {
             "colorbar": {
              "outlinewidth": 0,
              "ticks": ""
             }
            },
            "type": "scatterpolar"
           }
          ],
          "scatterpolargl": [
           {
            "marker": {
             "colorbar": {
              "outlinewidth": 0,
              "ticks": ""
             }
            },
            "type": "scatterpolargl"
           }
          ],
          "scatterternary": [
           {
            "marker": {
             "colorbar": {
              "outlinewidth": 0,
              "ticks": ""
             }
            },
            "type": "scatterternary"
           }
          ],
          "surface": [
           {
            "colorbar": {
             "outlinewidth": 0,
             "ticks": ""
            },
            "colorscale": [
             [
              0,
              "#0d0887"
             ],
             [
              0.1111111111111111,
              "#46039f"
             ],
             [
              0.2222222222222222,
              "#7201a8"
             ],
             [
              0.3333333333333333,
              "#9c179e"
             ],
             [
              0.4444444444444444,
              "#bd3786"
             ],
             [
              0.5555555555555556,
              "#d8576b"
             ],
             [
              0.6666666666666666,
              "#ed7953"
             ],
             [
              0.7777777777777778,
              "#fb9f3a"
             ],
             [
              0.8888888888888888,
              "#fdca26"
             ],
             [
              1,
              "#f0f921"
             ]
            ],
            "type": "surface"
           }
          ],
          "table": [
           {
            "cells": {
             "fill": {
              "color": "#EBF0F8"
             },
             "line": {
              "color": "white"
             }
            },
            "header": {
             "fill": {
              "color": "#C8D4E3"
             },
             "line": {
              "color": "white"
             }
            },
            "type": "table"
           }
          ]
         },
         "layout": {
          "annotationdefaults": {
           "arrowcolor": "#2a3f5f",
           "arrowhead": 0,
           "arrowwidth": 1
          },
          "autotypenumbers": "strict",
          "coloraxis": {
           "colorbar": {
            "outlinewidth": 0,
            "ticks": ""
           }
          },
          "colorscale": {
           "diverging": [
            [
             0,
             "#8e0152"
            ],
            [
             0.1,
             "#c51b7d"
            ],
            [
             0.2,
             "#de77ae"
            ],
            [
             0.3,
             "#f1b6da"
            ],
            [
             0.4,
             "#fde0ef"
            ],
            [
             0.5,
             "#f7f7f7"
            ],
            [
             0.6,
             "#e6f5d0"
            ],
            [
             0.7,
             "#b8e186"
            ],
            [
             0.8,
             "#7fbc41"
            ],
            [
             0.9,
             "#4d9221"
            ],
            [
             1,
             "#276419"
            ]
           ],
           "sequential": [
            [
             0,
             "#0d0887"
            ],
            [
             0.1111111111111111,
             "#46039f"
            ],
            [
             0.2222222222222222,
             "#7201a8"
            ],
            [
             0.3333333333333333,
             "#9c179e"
            ],
            [
             0.4444444444444444,
             "#bd3786"
            ],
            [
             0.5555555555555556,
             "#d8576b"
            ],
            [
             0.6666666666666666,
             "#ed7953"
            ],
            [
             0.7777777777777778,
             "#fb9f3a"
            ],
            [
             0.8888888888888888,
             "#fdca26"
            ],
            [
             1,
             "#f0f921"
            ]
           ],
           "sequentialminus": [
            [
             0,
             "#0d0887"
            ],
            [
             0.1111111111111111,
             "#46039f"
            ],
            [
             0.2222222222222222,
             "#7201a8"
            ],
            [
             0.3333333333333333,
             "#9c179e"
            ],
            [
             0.4444444444444444,
             "#bd3786"
            ],
            [
             0.5555555555555556,
             "#d8576b"
            ],
            [
             0.6666666666666666,
             "#ed7953"
            ],
            [
             0.7777777777777778,
             "#fb9f3a"
            ],
            [
             0.8888888888888888,
             "#fdca26"
            ],
            [
             1,
             "#f0f921"
            ]
           ]
          },
          "colorway": [
           "#636efa",
           "#EF553B",
           "#00cc96",
           "#ab63fa",
           "#FFA15A",
           "#19d3f3",
           "#FF6692",
           "#B6E880",
           "#FF97FF",
           "#FECB52"
          ],
          "font": {
           "color": "#2a3f5f"
          },
          "geo": {
           "bgcolor": "white",
           "lakecolor": "white",
           "landcolor": "white",
           "showlakes": true,
           "showland": true,
           "subunitcolor": "#C8D4E3"
          },
          "hoverlabel": {
           "align": "left"
          },
          "hovermode": "closest",
          "mapbox": {
           "style": "light"
          },
          "paper_bgcolor": "white",
          "plot_bgcolor": "white",
          "polar": {
           "angularaxis": {
            "gridcolor": "#EBF0F8",
            "linecolor": "#EBF0F8",
            "ticks": ""
           },
           "bgcolor": "white",
           "radialaxis": {
            "gridcolor": "#EBF0F8",
            "linecolor": "#EBF0F8",
            "ticks": ""
           }
          },
          "scene": {
           "xaxis": {
            "backgroundcolor": "white",
            "gridcolor": "#DFE8F3",
            "gridwidth": 2,
            "linecolor": "#EBF0F8",
            "showbackground": true,
            "ticks": "",
            "zerolinecolor": "#EBF0F8"
           },
           "yaxis": {
            "backgroundcolor": "white",
            "gridcolor": "#DFE8F3",
            "gridwidth": 2,
            "linecolor": "#EBF0F8",
            "showbackground": true,
            "ticks": "",
            "zerolinecolor": "#EBF0F8"
           },
           "zaxis": {
            "backgroundcolor": "white",
            "gridcolor": "#DFE8F3",
            "gridwidth": 2,
            "linecolor": "#EBF0F8",
            "showbackground": true,
            "ticks": "",
            "zerolinecolor": "#EBF0F8"
           }
          },
          "shapedefaults": {
           "line": {
            "color": "#2a3f5f"
           }
          },
          "ternary": {
           "aaxis": {
            "gridcolor": "#DFE8F3",
            "linecolor": "#A2B1C6",
            "ticks": ""
           },
           "baxis": {
            "gridcolor": "#DFE8F3",
            "linecolor": "#A2B1C6",
            "ticks": ""
           },
           "bgcolor": "white",
           "caxis": {
            "gridcolor": "#DFE8F3",
            "linecolor": "#A2B1C6",
            "ticks": ""
           }
          },
          "title": {
           "x": 0.05
          },
          "xaxis": {
           "automargin": true,
           "gridcolor": "#EBF0F8",
           "linecolor": "#EBF0F8",
           "ticks": "",
           "title": {
            "standoff": 15
           },
           "zerolinecolor": "#EBF0F8",
           "zerolinewidth": 2
          },
          "yaxis": {
           "automargin": true,
           "gridcolor": "#EBF0F8",
           "linecolor": "#EBF0F8",
           "ticks": "",
           "title": {
            "standoff": 15
           },
           "zerolinecolor": "#EBF0F8",
           "zerolinewidth": 2
          }
         }
        },
        "title": {
         "text": "<b>Relação Frequência-Modo para Cadeias Atômicas</b>",
         "x": 0.5
        },
        "xaxis": {
         "anchor": "y",
         "domain": [
          0,
          1
         ],
         "gridcolor": "LightGray",
         "range": [
          0.5,
          4.5
         ],
         "tickmode": "array",
         "tickvals": {
          "bdata": "AQIDBA==",
          "dtype": "i1"
         },
         "title": {
          "text": "Modo de Vibração"
         }
        },
        "yaxis": {
         "anchor": "x",
         "domain": [
          0,
          1
         ],
         "gridcolor": "LightGray",
         "range": [
          0,
          23
         ],
         "title": {
          "text": "Frequência Natural (ω, rad/s)"
         }
        }
       }
      }
     },
     "metadata": {},
     "output_type": "display_data"
    }
   ],
   "source": [
    "# ================================================================\n",
    "# Função para cálculo das frequências (sem alterações)\n",
    "# ================================================================\n",
    "def calcular_frequencias(N, massas, k, k2=0):\n",
    "    \"\"\"Calcula frequências naturais para uma cadeia de N átomos\"\"\"\n",
    "    M = np.diag(massas)\n",
    "    if N == 2:\n",
    "        K = k * np.array([[1, -1], \n",
    "                          [-1, 1]])\n",
    "    elif N == 3:\n",
    "        K = k * np.array([[1, -1, 0], \n",
    "                          [-1, 2, -1], \n",
    "                          [0, -1, 1]])\n",
    "    elif N == 4:\n",
    "        K = np.array([\n",
    "            [k + k2, -k,     -k2,      0],\n",
    "            [-k,     2*k + k2, -k,     -k2],\n",
    "            [-k2,    -k,     2*k + k2, -k],\n",
    "            [0,      -k2,    -k,     k + k2]\n",
    "        ])\n",
    "    autovalores, _ = eig(K, M)\n",
    "    frequencias = np.sqrt(np.abs(autovalores))\n",
    "    return np.sort(frequencias)\n",
    "\n",
    "# ================================================================\n",
    "# Preparação dos Dados para Plotagem com Plotly\n",
    "# ================================================================\n",
    "# Parâmetros físicos\n",
    "k2 = 40.0\n",
    "\n",
    "# Configurações a serem simuladas\n",
    "configuracoes = [\n",
    "    {'N': 2, 'massas': [m1, m1], 'label': '2 átomos (massas iguais)'},\n",
    "    {'N': 2, 'massas': [m1, m2], 'label': '2 átomos (m1=1, m2=3)'},\n",
    "    {'N': 3, 'massas': [m1, m1, m1], 'label': '3 átomos (massas iguais)'},\n",
    "    {'N': 4, 'massas': [m1, m1, m1, m1], 'k2': 0, 'label': '4 átomos (sem 2ª viz)'},\n",
    "    {'N': 4, 'massas': [m1, m1, m1, m1], 'k2': k2, 'label': '4 átomos (com 2ª viz)'}\n",
    "]\n",
    "\n",
    "# Estruturar dados para um DataFrame Pandas\n",
    "plot_data = []\n",
    "for config in configuracoes:\n",
    "    N = config['N']\n",
    "    massas = config['massas']\n",
    "    k2_val = config.get('k2', 0)\n",
    "    \n",
    "    freq = calcular_frequencias(N, massas, k, k2_val)\n",
    "    modos = np.arange(1, N + 1)\n",
    "    \n",
    "    for i in range(N):\n",
    "        plot_data.append({\n",
    "            'Modo': modos[i],\n",
    "            'Frequência (ω)': freq[i],\n",
    "            'Sistema': config['label']\n",
    "        })\n",
    "\n",
    "df = pd.DataFrame(plot_data)\n",
    "\n",
    "# ================================================================\n",
    "# Criação do Gráfico Interativo com Plotly\n",
    "# ================================================================\n",
    "fig = px.line(\n",
    "    df,\n",
    "    x='Modo',\n",
    "    y='Frequência (ω)',\n",
    "    color='Sistema',\n",
    "    symbol='Sistema',\n",
    "    markers=True,\n",
    "    title='<b>Relação Frequência-Modo para Cadeias Atômicas</b>',\n",
    "    labels={'Frequência (ω)': 'Frequência Natural (ω, rad/s)', 'Modo': 'Modo de Vibração'},\n",
    "    template='plotly_white'\n",
    ")\n",
    "\n",
    "fig.update_traces(\n",
    "    marker=dict(size=11, line=dict(width=0.5, color='DarkSlateGrey')),\n",
    "    line=dict(width=2)\n",
    ")\n",
    "\n",
    "fig.update_layout(\n",
    "    title_x=0.5, # Centralizar o título\n",
    "    font=dict(family=\"Arial, sans-serif\", size=13, color=\"black\"),\n",
    "    xaxis=dict(\n",
    "        tickmode='array',\n",
    "        tickvals=np.arange(1, 5),\n",
    "        range=[0.5, 4.5],\n",
    "        gridcolor='LightGray'\n",
    "    ),\n",
    "    yaxis=dict(\n",
    "        range=[0, 23],\n",
    "        gridcolor='LightGray'\n",
    "    ),\n",
    "    legend_title_text='<b>Configuração do Sistema</b>',\n",
    "    legend=dict(\n",
    "        x=0.02,\n",
    "        y=0.98,\n",
    "        bgcolor='rgba(255, 255, 255, 0.8)',\n",
    "        bordercolor='black',\n",
    "        borderwidth=1\n",
    "    )\n",
    ")\n",
    "\n",
    "\n",
    "\n",
    "fig.show()"
   ]
  },
  {
   "cell_type": "code",
   "execution_count": null,
   "metadata": {},
   "outputs": [],
   "source": [
    "# Configurações\n",
    "#plt.rcParams.update({'font.size': 12, 'font.family': 'DejaVu Sans'})\n",
    "#sns.set_style(\"whitegrid\")\n",
    "\n",
    "# Parâmetros do sistema\n",
    "#N = 4           # Número de átomos        # Massa de cada átomo    \n",
    "#k2 = 40.0       # Constante de mola (segunda vizinhança)\n",
    "#k1 = k_value    # Definindo k1 para usar abaixo\n",
    "\n",
    "# Matriz de massa\n",
    "#M = m1 * np.eye(N)\n",
    "\n",
    "# =================================================================\n",
    "# CASO 1: Apenas primeira vizinhança\n",
    "# =================================================================\n",
    "#K1 = k_value * np.array([\n",
    "    #[ 2, -1,  0,  0],\n",
    "   # [-1,  2, -1,  0],\n",
    "   # [ 0, -1,  2, -1],\n",
    "   # [ 0,  0, -1,  2]\n",
    "#])\n",
    "\n",
    "# Resolver problema de autovalor\n",
    "#autovalores1, autovetores1 = eig(K1, M)\n",
    "#frequencias1 = np.sqrt(np.abs(autovalores1))\n",
    "#idx1 = np.argsort(frequencias1)\n",
    "#frequencias_ordenadas1 = frequencias1[idx1]\n",
    "#autovetores_ordenados1 = autovetores1[:, idx1].real\n",
    "#autovetores_norm1 = autovetores_ordenados1 / np.linalg.norm(autovetores_ordenados1, axis=0)\n",
    "\n",
    "# =================================================================\n",
    "# CASO 2: Primeira e segunda vizinhança\n",
    "# =================================================================\n",
    "#K2 = np.array([\n",
    "   # [2*k1 + k2, -k1,      -k2,       0],\n",
    "    #[-k1,        2*k1 + k2, -k1,      -k2],\n",
    "    #[-k2,        -k1,       2*k1 + k2, -k1],\n",
    "    #[0,          -k2,       -k1,       2*k1 + k2]\n",
    "#])\n",
    "\n",
    "#autovalores2, autovetores2 = eig(K2, M)\n",
    "#frequencias2 = np.sqrt(np.abs(autovalores2))\n",
    "#idx2 = np.argsort(frequencias2)\n",
    "#frequencias_ordenadas2 = frequencias2[idx2]\n",
    "#autovetores_ordenados2 = autovetores2[:, idx2].real\n",
    "#autovetores_norm2 = autovetores_ordenados2 / np.linalg.norm(autovetores_ordenados2, axis=0)\n",
    "\n",
    "# =================================================================\n",
    "# 1. Gráfico Comparativo das Frequências Naturais\n",
    "# =================================================================\n",
    "#modes = np.arange(1, N+1)\n",
    "#width = 0.35\n",
    "\n",
    "#plt.figure(figsize=(10, 6))\n",
    "#plt.bar(modes - width/2, frequencias_ordenadas1, width, \n",
    "        #label='Apenas primeira vizinhança', alpha=0.8, color='royalblue')\n",
    "#plt.bar(modes + width/2, frequencias_ordenadas2, width, \n",
    "        #label='Com segunda vizinhança', alpha=0.8, color='crimson')\n",
    "\n",
    "#plt.xlabel('Modo Normal')\n",
    "#plt.ylabel('Frequência (rad/s)')\n",
    "#plt.title('Comparação de Frequências Naturais para 4 Átomos')\n",
    "#plt.xticks(modes)\n",
    "#plt.legend()\n",
    "#plt.tight_layout()\n",
    "#plt.savefig('comparacao_frequencias.png', dpi=300)\n",
    "#plt.show()\n",
    "\n",
    "# =================================================================\n",
    "# 2. Visualização dos Modos Normais\n",
    "# =================================================================\n",
    "#def plot_modos(autovetores, frequencias, titulo, k2=False):\n",
    "    #fig, axs = plt.subplots(2, 2, figsize=(12, 10))\n",
    "    #fig.suptitle(titulo, fontsize=16)\n",
    "    #posicoes = np.arange(N)\n",
    "    \n",
    "    #for i, ax in enumerate(axs.flat):\n",
    "        #if i >= N: break\n",
    "            \n",
    "        # Desenhar conexões\n",
    "        #for j in range(N-1):\n",
    "            #ax.plot([j, j+1], [0, 0], 'k-', lw=2, alpha=0.4)  # Conexões diretas\n",
    "            \n",
    "        #if k2:  # Conexões de segunda vizinhança\n",
    "            #for j in range(N-2):\n",
    "                #ax.plot([j, j+2], [0.1, 0.1], 'b--', alpha=0.6)\n",
    "        \n",
    "        # Desenhar átomos e deslocamentos\n",
    "        #desloc = autovetores[:, i] * 0.3  # ajuste o fator de escala para setas menores\n",
    "        #for j in range(N):\n",
    "            #ax.scatter(j, 0, s=600, c='firebrick', edgecolor='k', zorder=3)\n",
    "            #ax.quiver(j, 0, desloc[j], 0, scale=1.5, \n",
    "                      #width=0.015, headwidth=3, headlength=4, color='navy')\n",
    "        \n",
    "        #ax.set_title(f'Modo {i+1}: ω = {frequencias[i]:.2f} rad/s')\n",
    "        #ax.set_xlim(-0.5, N-0.5)\n",
    "        #ax.set_ylim(-0.5, 0.5)\n",
    "        #ax.set_aspect('equal')\n",
    "        #ax.axis('off')\n",
    "    \n",
    "    #plt.tight_layout()\n",
    "    #plt.savefig(f'modos_{\"k2\" if k2 else \"k1\"}.png', dpi=300)\n",
    "    #plt.show()\n",
    "\n",
    "# Plot dos modos\n",
    "#plot_modos(autovetores_norm1, frequencias_ordenadas1, \n",
    "          #\"Modos Normais - Apenas Primeira Vizinhança\")\n",
    "#plot_modos(autovetores_norm2, frequencias_ordenadas2, \n",
    "          #\"Modos Normais - Com Segunda Vizinhança\", k2=True)\n",
    "\n",
    "# =================================================================\n",
    "# 3. Matrizes de Rigidez (Heatmaps)\n",
    "# =================================================================\n",
    "#fig, (ax1, ax2) = plt.subplots(1, 2, figsize=(12, 5))\n",
    "\n",
    "#sns.heatmap(K1, annot=True, fmt=\".0f\", cmap=\"coolwarm\", \n",
    "            #ax=ax1, cbar=False, annot_kws={\"size\": 14})\n",
    "#ax1.set_title('Matriz de Rigidez\\n(Apenas primeira vizinhança)')\n",
    "\n",
    "#sns.heatmap(K2, annot=True, fmt=\".0f\", cmap=\"coolwarm\", \n",
    "            #ax=ax2, cbar=False, annot_kws={\"size\": 14})\n",
    "#ax2.set_title('Matriz de Rigidez\\n(Com segunda vizinhança)')\n",
    "\n",
    "#plt.tight_layout()\n",
    "#plt.savefig('matrizes_rigidez.png', dpi=300)\n",
    "#plt.show()\n",
    "\n",
    "# =================================================================\n",
    "# 4. Valores Numéricos Comparativos\n",
    "# =================================================================\n",
    "#print(\"\\n\" + \"=\"*60)\n",
    "#print(\"Comparação Detalhada das Frequências Naturais\")\n",
    "#print(\"=\"*60)\n",
    "#print(f\"{'Modo':<10}{'Apenas k1 (rad/s)':<20}{'Com k1+k2 (rad/s)':<20}{'Variação (%)':<15}\")\n",
    "#print(\"-\"*60)\n",
    "#for i in range(N):\n",
    "    #var_percent = ((frequencias_ordenadas2[i] - frequencias_ordenadas1[i]) / frequencias_ordenadas1[i]) * 100\n",
    "    #print(f\"{i+1:<10}{frequencias_ordenadas1[i]:<20.4f}{frequencias_ordenadas2[i]:<20.4f}{var_percent:<15.2f}\")"
   ]
  }
 ],
 "metadata": {
  "kernelspec": {
   "display_name": "Python 3",
   "language": "python",
   "name": "python3"
  },
  "language_info": {
   "codemirror_mode": {
    "name": "ipython",
    "version": 3
   },
   "file_extension": ".py",
   "mimetype": "text/x-python",
   "name": "python",
   "nbconvert_exporter": "python",
   "pygments_lexer": "ipython3",
   "version": "3.13.5"
  }
 },
 "nbformat": 4,
 "nbformat_minor": 2
}
